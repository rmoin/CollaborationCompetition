{
 "cells": [
  {
   "cell_type": "markdown",
   "metadata": {},
   "source": [
    "# Collaboration and Competition\n",
    "\n",
    "---\n",
    "\n",
    "In this notebook, we will make use of the Unity ML-Agents environment.\n",
    "\n",
    "### 1. Start the Environment\n",
    "\n",
    "We begin by importing the necessary packages. Please make sure to install [Unity ML-Agents](https://github.com/Unity-Technologies/ml-agents/blob/master/docs/Installation.md) and [NumPy](http://www.numpy.org/).  "
   ]
  },
  {
   "cell_type": "code",
   "execution_count": 1,
   "metadata": {
    "scrolled": true
   },
   "outputs": [],
   "source": [
    "#Don't need to run this cell. Check out the dependencies in README file\n",
    "#!pip -q install ./python"
   ]
  },
  {
   "cell_type": "code",
   "execution_count": 2,
   "metadata": {},
   "outputs": [],
   "source": [
    "#Don't need to run this cell. This is only required during the training in Udacity workspaces\n",
    "#from workspace_utils import active_session"
   ]
  },
  {
   "cell_type": "code",
   "execution_count": 3,
   "metadata": {},
   "outputs": [],
   "source": [
    "from unityagents import UnityEnvironment\n",
    "import numpy as np"
   ]
  },
  {
   "cell_type": "code",
   "execution_count": 4,
   "metadata": {},
   "outputs": [],
   "source": [
    "import random\n",
    "import copy\n",
    "import matplotlib.pyplot as plt\n",
    "%matplotlib inline\n",
    "import time"
   ]
  },
  {
   "cell_type": "code",
   "execution_count": 5,
   "metadata": {},
   "outputs": [],
   "source": [
    "import torch\n",
    "import torch.nn.functional as F\n",
    "import torch.optim as optim\n",
    "import torch.nn.utils as U"
   ]
  },
  {
   "cell_type": "code",
   "execution_count": 6,
   "metadata": {},
   "outputs": [],
   "source": [
    "from collections import namedtuple, deque"
   ]
  },
  {
   "cell_type": "code",
   "execution_count": 7,
   "metadata": {},
   "outputs": [],
   "source": [
    "from model import Actor, Critic\n",
    "from utils import sample, update_targets, OUNoise"
   ]
  },
  {
   "cell_type": "code",
   "execution_count": 8,
   "metadata": {},
   "outputs": [],
   "source": [
    "## Hyperparameters\n",
    "\n",
    "## For Experience Replay\n",
    "BUFFER_SIZE = int(1e5)  # replay buffer size\n",
    "BATCH_SIZE = 128         # minibatch size\n",
    "\n",
    "## For Fixed-Q Target\n",
    "TAU = 1e-3              # for soft update of target parameters\n",
    "UPDATE_EVERY = 1       # how often to update the network. \n",
    "UPDATE_TIMES = 1       # and how many times to update\n",
    "\n",
    "# For Cumulative Reward\n",
    "GAMMA = 0.99            # discount factor\n",
    "\n",
    "## For Q Network\n",
    "LR_ACTOR = 1e-3         # learning rate of the actor\n",
    "LR_CRITIC = 1e-3        # learning rate of the critic\n",
    "\n",
    "WEIGHT_DECAY = 0        # L2 weight decay\n",
    "\n",
    "OU_SIGMA = 0.2          # Ornstein-Uhlenbeck noise parameter\n",
    "OU_THETA = 0.15         # Ornstein-Uhlenbeck noise parameter"
   ]
  },
  {
   "cell_type": "code",
   "execution_count": 9,
   "metadata": {},
   "outputs": [],
   "source": [
    "device = torch.device(\"cuda:0\" if torch.cuda.is_available() else \"cpu\")"
   ]
  },
  {
   "cell_type": "code",
   "execution_count": 10,
   "metadata": {},
   "outputs": [],
   "source": [
    "state_size = 24\n",
    "action_size = 2\n",
    "random_seed = 1\n",
    "random.seed(random_seed)"
   ]
  },
  {
   "cell_type": "code",
   "execution_count": 11,
   "metadata": {},
   "outputs": [],
   "source": [
    "## AGENT No. 1 \n",
    "\n",
    "# Actor Network (w/ Target Network)\n",
    "actor_local1 = Actor(state_size+1, action_size, random_seed).to(device)\n",
    "actor_target1 = Actor(state_size+1, action_size, random_seed).to(device)\n",
    "actor_optimizer1 = optim.Adam(actor_local1.parameters(), lr=LR_ACTOR)\n",
    "\n",
    "# Critic Network (w/ Target Network)\n",
    "critic_local1 = Critic(state_size+1, action_size, random_seed).to(device)\n",
    "critic_target1 = Critic(state_size+1, action_size, random_seed).to(device)\n",
    "critic_optimizer1 = optim.Adam(critic_local1.parameters(), lr=LR_CRITIC, weight_decay=WEIGHT_DECAY)"
   ]
  },
  {
   "cell_type": "code",
   "execution_count": 12,
   "metadata": {},
   "outputs": [],
   "source": [
    "## AGENT No. 2 \n",
    "\n",
    "# Actor Network (w/ Target Network)\n",
    "actor_local2 = Actor(state_size+1, action_size, random_seed).to(device)\n",
    "actor_target2 = Actor(state_size+1, action_size, random_seed).to(device)\n",
    "actor_optimizer2 = optim.Adam(actor_local2.parameters(), lr=LR_ACTOR)\n",
    "\n",
    "\n",
    "# Critic Network (w/ Target Network)\n",
    "critic_local2 = Critic(state_size+1, action_size, random_seed).to(device)\n",
    "critic_target2 = Critic(state_size+1, action_size, random_seed).to(device)\n",
    "critic_optimizer2 = optim.Adam(critic_local2.parameters(), lr=LR_CRITIC, weight_decay=WEIGHT_DECAY)"
   ]
  },
  {
   "cell_type": "code",
   "execution_count": 13,
   "metadata": {},
   "outputs": [],
   "source": [
    "update_targets(critic_local1, critic_target1)\n",
    "update_targets(actor_local1, actor_target1)        \n",
    "update_targets(critic_local2, critic_target2)\n",
    "update_targets(actor_local2, actor_target2)   "
   ]
  },
  {
   "cell_type": "code",
   "execution_count": 14,
   "metadata": {},
   "outputs": [],
   "source": [
    "# some util and data variables\n",
    "mu = 0.\n",
    "replay_memory = deque(maxlen=BUFFER_SIZE) # same memory will be used for both the agents to implement MADDPG\n",
    "experience = namedtuple(\"Experience\", field_names=[\"state\", \"action\", \"reward\", \"next_state\", \"done\"])\n",
    "# Noise process\n",
    "noise = OUNoise(action_size, random_seed, mu, OU_SIGMA, OU_THETA)"
   ]
  },
  {
   "cell_type": "markdown",
   "metadata": {},
   "source": [
    "Next, we will start the environment!"
   ]
  },
  {
   "cell_type": "code",
   "execution_count": 15,
   "metadata": {
    "scrolled": true
   },
   "outputs": [],
   "source": [
    "#Run this cell in Udacity workspace. Otherwise run the cell below\n",
    "\n",
    "#env = UnityEnvironment(file_name=\"/data/Tennis_Linux_NoVis/Tennis\")"
   ]
  },
  {
   "cell_type": "code",
   "execution_count": 16,
   "metadata": {
    "scrolled": true
   },
   "outputs": [
    {
     "name": "stderr",
     "output_type": "stream",
     "text": [
      "INFO:unityagents:\n",
      "'Academy' started successfully!\n",
      "Unity Academy name: Academy\n",
      "        Number of Brains: 1\n",
      "        Number of External Brains : 1\n",
      "        Lesson number : 0\n",
      "        Reset Parameters :\n",
      "\t\t\n",
      "Unity brain name: TennisBrain\n",
      "        Number of Visual Observations (per agent): 0\n",
      "        Vector Observation space type: continuous\n",
      "        Vector Observation space size (per agent): 8\n",
      "        Number of stacked Vector Observation: 3\n",
      "        Vector Action space type: continuous\n",
      "        Vector Action space size (per agent): 2\n",
      "        Vector Action descriptions: , \n"
     ]
    }
   ],
   "source": [
    "#Run this cell locally on mac only. Otherwise run the above cell.\n",
    "\n",
    "env = UnityEnvironment(file_name=\"Tennis.app\")"
   ]
  },
  {
   "cell_type": "markdown",
   "metadata": {},
   "source": [
    "Environments contain **_brains_** which are responsible for deciding the actions of their associated agents. Here we check for the first brain available, and set it as the default brain we will be controlling from Python."
   ]
  },
  {
   "cell_type": "code",
   "execution_count": 17,
   "metadata": {},
   "outputs": [],
   "source": [
    "# get the default brain\n",
    "brain_name = env.brain_names[0]\n",
    "brain = env.brains[brain_name]"
   ]
  },
  {
   "cell_type": "markdown",
   "metadata": {},
   "source": [
    "### 2. Examine the State and Action Spaces\n",
    "\n",
    "In this environment, two agents control rackets to bounce a ball over a net. If an agent hits the ball over the net, it receives a reward of +0.1.  If an agent lets a ball hit the ground or hits the ball out of bounds, it receives a reward of -0.01.  Thus, the goal of each agent is to keep the ball in play.\n",
    "\n",
    "The observation space consists of 8 variables corresponding to the position and velocity of the ball and racket. Two continuous actions are available, corresponding to movement toward (or away from) the net, and jumping. \n",
    "\n",
    "Run the code cell below to print some information about the environment."
   ]
  },
  {
   "cell_type": "code",
   "execution_count": 18,
   "metadata": {},
   "outputs": [
    {
     "name": "stdout",
     "output_type": "stream",
     "text": [
      "Number of agents: 2\n",
      "Size of each action: 2\n",
      "There are 2 agents. Each observes a state with length: 24\n",
      "The state for the first agent looks like: [ 0.          0.          0.          0.          0.          0.\n",
      "  0.          0.          0.          0.          0.          0.\n",
      "  0.          0.          0.          0.         -6.65278625 -1.5\n",
      " -0.          0.          6.83172083  6.         -0.          0.        ]\n"
     ]
    }
   ],
   "source": [
    "# reset the environment\n",
    "env_info = env.reset(train_mode=True)[brain_name]\n",
    "\n",
    "# number of agents\n",
    "num_agents = len(env_info.agents)\n",
    "print('Number of agents:', num_agents)\n",
    "\n",
    "# size of each action\n",
    "action_size = brain.vector_action_space_size\n",
    "print('Size of each action:', action_size)\n",
    "\n",
    "# examine the state space \n",
    "states = env_info.vector_observations\n",
    "state_size = states.shape[1]\n",
    "print('There are {} agents. Each observes a state with length: {}'.format(states.shape[0], state_size))\n",
    "print('The state for the first agent looks like:', states[0])"
   ]
  },
  {
   "cell_type": "markdown",
   "metadata": {},
   "source": [
    "### 3. Take Random Actions in the Environment (Optional Step)\n",
    "\n",
    "In the next code cell, we will learn how to use the Python API to control the agent and receive feedback from the environment.\n",
    "\n",
    "Once this cell is executed, we will watch the agent's performance, if it selects an action at random with each time step.  A window should pop up that allows us to observe the agent, as it moves through the environment.  "
   ]
  },
  {
   "cell_type": "code",
   "execution_count": 19,
   "metadata": {},
   "outputs": [
    {
     "name": "stdout",
     "output_type": "stream",
     "text": [
      "Total score (averaged over agents) this episode: -0.004999999888241291\n",
      "Total steps in this episode: 14\n",
      "Total score (averaged over agents) this episode: -0.004999999888241291\n",
      "Total steps in this episode: 17\n",
      "Total score (averaged over agents) this episode: -0.004999999888241291\n",
      "Total steps in this episode: 15\n",
      "Total score (averaged over agents) this episode: -0.004999999888241291\n",
      "Total steps in this episode: 15\n",
      "Total score (averaged over agents) this episode: -0.004999999888241291\n",
      "Total steps in this episode: 14\n"
     ]
    }
   ],
   "source": [
    "for i in range(5):                                         # play game for 5 episodes\n",
    "    env_info = env.reset(train_mode=False)[brain_name]     # reset the environment    \n",
    "    states = env_info.vector_observations                  # get the current state (for each agent)\n",
    "    scores = np.zeros(num_agents)                          # initialize the score (for each agent)\n",
    "    steps = 0\n",
    "    while True:\n",
    "        actions = np.random.randn(num_agents, action_size) # select an action (for each agent)\n",
    "        actions = np.clip(actions, -1, 1)                  # all actions between -1 and 1\n",
    "        env_info = env.step(actions)[brain_name]           # send all actions to tne environment\n",
    "        next_states = env_info.vector_observations         # get next state (for each agent)\n",
    "        rewards = env_info.rewards                         # get reward (for each agent)\n",
    "        dones = env_info.local_done                        # see if episode finished\n",
    "        scores += env_info.rewards                         # update the score (for each agent)\n",
    "        states = next_states                               # roll over states to next time step\n",
    "        steps += 1\n",
    "        if np.any(dones):                                  # exit loop if episode finished\n",
    "            break\n",
    "    print('Total score (averaged over agents) this episode: {}'.format(np.mean(scores)))\n",
    "    print('Total steps in this episode: {}'.format(steps))"
   ]
  },
  {
   "cell_type": "markdown",
   "metadata": {},
   "source": [
    "### 4. Define Agent"
   ]
  },
  {
   "cell_type": "code",
   "execution_count": 20,
   "metadata": {},
   "outputs": [],
   "source": [
    "## Agent - one of the core logic of DDPG - To run INFERENCE on Actor Neural Network\n",
    "def agent(actor_local, state, add_noise=True):\n",
    "    \"\"\"Returns actions for given state as per current policy.\"\"\"\n",
    "    state = torch.from_numpy(state).float().to(device)\n",
    "    actor_local.eval()\n",
    "    with torch.no_grad():\n",
    "        action = actor_local(state).cpu().data.numpy()\n",
    "    actor_local.train()\n",
    "    if add_noise:\n",
    "        action +=noise.sample()\n",
    "    return np.clip(action, -1, 1)"
   ]
  },
  {
   "cell_type": "markdown",
   "metadata": {},
   "source": [
    "### 5. Define Training of the Agent\n",
    "\n",
    "Or go straight to step 8 to test agent loaded with previuous trained weights (in its Neural Network)"
   ]
  },
  {
   "cell_type": "code",
   "execution_count": 21,
   "metadata": {},
   "outputs": [],
   "source": [
    "## Train Agent - One of the core logic of DDPG - To TRAIN Actor and Critic Neural NETWORK\n",
    "def train_agent(state, action, reward, next_state, done, timestep, \n",
    "                actor_local, actor_target, actor_optimizer, critic_local, critic_target, critic_optimizer):\n",
    "    \"\"\"Update policy and value parameters using given batch of experience tuples.\n",
    "    Q_targets = r + γ * critic_target(next_state, actor_target(next_state))\n",
    "    where:\n",
    "        actor_target(state) -> action\n",
    "        critic_target(state, action) -> Q-value\n",
    "\n",
    "    Params\n",
    "    ======\n",
    "        experiences (Tuple[torch.Tensor]): tuple of (s, a, r, s', done) tuples \n",
    "        gamma (float): discount factor\n",
    "    \"\"\"\n",
    "    \"\"\"Save experience in replay memory, and use random sample from buffer to learn.\"\"\"\n",
    "       \n",
    "    e = experience(state, action, reward, next_state, done)\n",
    "    # Save experience / reward\n",
    "    replay_memory.append(e)\n",
    "        \n",
    "    # Learn, if enough samples are available in memory\n",
    "    if len(replay_memory) > BATCH_SIZE and timestep % UPDATE_EVERY == 0:\n",
    "        for _ in range(UPDATE_TIMES):\n",
    "            \n",
    "            experiences = sample(replay_memory, BATCH_SIZE)\n",
    "            states, actions, rewards, next_states, dones = experiences\n",
    "\n",
    "            # ---------------------------- update critic ---------------------------- #\n",
    "            # Get predicted next-state actions and Q values from target models\n",
    "            actions_next = actor_target(next_states)\n",
    "            Q_targets_next = critic_target(next_states, actions_next)\n",
    "            # Compute Q targets for current states (y_i)\n",
    "            Q_targets = rewards + (GAMMA * Q_targets_next * (1 - dones))\n",
    "            # Compute critic loss\n",
    "            Q_expected = critic_local(states, actions)\n",
    "            critic_loss = F.mse_loss(Q_expected, Q_targets)\n",
    "            # Minimize the loss\n",
    "            critic_optimizer.zero_grad()\n",
    "            critic_loss.backward()\n",
    "            U.clip_grad_norm_(critic_local.parameters(), 1)\n",
    "            critic_optimizer.step()\n",
    "\n",
    "\n",
    "            # ---------------------------- update actor ---------------------------- #\n",
    "            # Compute actor loss\n",
    "            actions_pred = actor_local(states)\n",
    "            actor_loss = -critic_local(states, actions_pred).mean()\n",
    "            # Minimize the loss\n",
    "            actor_optimizer.zero_grad()\n",
    "            actor_loss.backward()\n",
    "            actor_optimizer.step()\n",
    "\n",
    "            # ----------------------- update target networks ----------------------- #\n",
    "            update_targets(critic_local, critic_target, TAU)\n",
    "            update_targets(actor_local, actor_target, TAU) "
   ]
  },
  {
   "cell_type": "markdown",
   "metadata": {},
   "source": [
    "### 6. Main Function - Define and Run Training\n",
    "\n",
    "Or go straight to step 8 to test agent loaded with previous trained weights (in its Neural Network)"
   ]
  },
  {
   "cell_type": "code",
   "execution_count": 22,
   "metadata": {},
   "outputs": [
    {
     "name": "stdout",
     "output_type": "stream",
     "text": [
      "Episode 100\t Mean Score for Agent 1: -0.000, Mean Score for Agent 2: -0.001, Mean Score of both Agents: -0.001\n",
      "Episode 200\t Mean Score for Agent 1: -0.005, Mean Score for Agent 2: -0.005, Mean Score of both Agents: -0.005\n",
      "Episode 300\t Mean Score for Agent 1: -0.004, Mean Score for Agent 2: -0.006, Mean Score of both Agents: -0.005\n",
      "Episode 400\t Mean Score for Agent 1: -0.006, Mean Score for Agent 2: -0.004, Mean Score of both Agents: -0.005\n",
      "Episode 500\t Mean Score for Agent 1: 0.001, Mean Score for Agent 2: 0.000, Mean Score of both Agents: 0.001\n",
      "Episode 600\t Mean Score for Agent 1: 0.005, Mean Score for Agent 2: 0.007, Mean Score of both Agents: 0.006\n",
      "Episode 700\t Mean Score for Agent 1: 0.004, Mean Score for Agent 2: -0.003, Mean Score of both Agents: 0.001\n",
      "Episode 800\t Mean Score for Agent 1: 0.004, Mean Score for Agent 2: -0.003, Mean Score of both Agents: 0.001\n",
      "Episode 900\t Mean Score for Agent 1: 0.009, Mean Score for Agent 2: -0.005, Mean Score of both Agents: 0.002\n",
      "Episode 1000\t Mean Score for Agent 1: 0.006, Mean Score for Agent 2: 0.002, Mean Score of both Agents: 0.004\n",
      "Episode 1100\t Mean Score for Agent 1: 0.025, Mean Score for Agent 2: 0.008, Mean Score of both Agents: 0.017\n",
      "Episode 1200\t Mean Score for Agent 1: 0.020, Mean Score for Agent 2: 0.035, Mean Score of both Agents: 0.028\n",
      "Episode 1300\t Mean Score for Agent 1: 0.040, Mean Score for Agent 2: 0.037, Mean Score of both Agents: 0.038\n",
      "Episode 1400\t Mean Score for Agent 1: 0.073, Mean Score for Agent 2: 0.089, Mean Score of both Agents: 0.081\n",
      "Episode 1500\t Mean Score for Agent 1: 0.126, Mean Score for Agent 2: 0.151, Mean Score of both Agents: 0.138\n",
      "Episode 1600\t Mean Score for Agent 1: 0.189, Mean Score for Agent 2: 0.186, Mean Score of both Agents: 0.187\n",
      "Episode 1700\t Mean Score for Agent 1: 0.484, Mean Score for Agent 2: 0.479, Mean Score of both Agents: 0.482\n",
      "Episode 1800\t Mean Score for Agent 1: 0.538, Mean Score for Agent 2: 0.545, Mean Score of both Agents: 0.542\n",
      "Episode 1900\t Mean Score for Agent 1: 0.549, Mean Score for Agent 2: 0.546, Mean Score of both Agents: 0.548\n",
      "Episode 2000\t Mean Score for Agent 1: 0.582, Mean Score for Agent 2: 0.579, Mean Score of both Agents: 0.580\n",
      "Episode 2100\t Mean Score for Agent 1: 0.695, Mean Score for Agent 2: 0.688, Mean Score of both Agents: 0.691\n",
      "Episode 2200\t Mean Score for Agent 1: 0.835, Mean Score for Agent 2: 0.837, Mean Score of both Agents: 0.836\n"
     ]
    },
    {
     "data": {
      "image/png": "[encoded data removed]",
      "text/plain": [
       "<Figure size 432x288 with 1 Axes>"
      ]
     },
     "metadata": {
      "needs_background": "light"
     },
     "output_type": "display_data"
    }
   ],
   "source": [
    "def ddpg(n_episodes=4000, target_score=0.5, print_every=100):\n",
    "    #Some utility score variables\n",
    "    scores1 = []\n",
    "    scores2 = []\n",
    "    mean_scores = []   \n",
    "    for i_episode in range(1, n_episodes+1):\n",
    "        #reset the environment, noise and score\n",
    "        env_info = env.reset(train_mode=True)[brain_name] # reset the environment\n",
    "        state = env_info.vector_observations              # get current state\n",
    "        noise.reset()                                     # reset the noise        \n",
    "        #reset the score for each agent\n",
    "        score1 = 0\n",
    "        score2 = 0\n",
    "        #reset some utility counter\n",
    "        t = 0\n",
    "        while True: \n",
    "            t += 1\n",
    "            state1 = np.concatenate([state[0], [1]]).reshape((1,state.shape[1]+1))\n",
    "            state2 = np.concatenate([state[1], [-1]]).reshape((1,state.shape[1]+1))\n",
    "            # select action with exploration \n",
    "            action1 = agent(actor_local1, state1, add_noise=True) \n",
    "            action2 = agent(actor_local2, state2, add_noise=True) \n",
    "            #Step the agents actions into the environment, and get reward, next state, etc\n",
    "            env_info = env.step([action1, action2])[brain_name]\n",
    "            next_state = env_info.vector_observations\n",
    "            reward = env_info.rewards\n",
    "            done = env_info.local_done\n",
    "            #Get the next_state for each agent from the main next_state variable\n",
    "            next_state1 = np.concatenate([next_state[0], [1]])\n",
    "            next_state2 = np.concatenate([next_state[1], [-1]])\n",
    "            #Train both the agents now - Actor and Critic Neural Networks \n",
    "            train_agent(state1, action1, np.mean(reward), next_state1, done[0], t,\n",
    "                        actor_local1, actor_target1, actor_optimizer1, critic_local1, critic_target1, critic_optimizer1)                   \n",
    "            train_agent(state2, action2, np.mean(reward), next_state2, done[1], t,\n",
    "                        actor_local2, actor_target2, actor_optimizer2, critic_local1, critic_target1, critic_optimizer2)                   \n",
    "            #Make next_state as current state and continue\n",
    "            state = next_state\n",
    "            # add reward to current score of each agent\n",
    "            score1 += reward[0]\n",
    "            score2 += reward[1]                  \n",
    "            # exit loop when episode ends\n",
    "            if np.all(done):            \n",
    "                break     \n",
    "        \n",
    "        scores1.append(score1)\n",
    "        scores2.append(score2)\n",
    "        mean_scores.append(np.mean([score1, score2]))\n",
    "        mean1 = np.mean(scores1[-100:])\n",
    "        mean2 = np.mean(scores2[-100:])\n",
    "        mean_score = np.mean(mean_scores[-100:])\n",
    "        if i_episode % print_every==0:\n",
    "            print('Episode {}\\t Mean Score for Agent 1: {:.3f}, Mean Score for Agent 2: {:.3f}, Mean Score of both Agents: {:.3f}'.format(\n",
    "            i_episode, mean1, mean2, mean_score))\n",
    "            \n",
    "        if i_episode % 100 == 0:\n",
    "            torch.save(actor_local1.state_dict(), 'checkpoint_actor_1.pth')\n",
    "            torch.save(critic_local1.state_dict(), 'checkpoint_critic_1.pth')\n",
    "            torch.save(actor_local2.state_dict(), 'checkpoint_actor_2.pth')\n",
    "            torch.save(critic_local2.state_dict(), 'checkpoint_critic_2.pth')\n",
    "        if mean_score>1:\n",
    "            break\n",
    "\n",
    "    return mean_scores\n",
    "\n",
    "scores = ddpg()\n",
    "\n",
    "fig = plt.figure()\n",
    "ax = fig.add_subplot(111)\n",
    "plt.plot(np.arange(1, len(scores)+1), scores, 'r-')\n",
    "plt.ylabel('Score')\n",
    "plt.xlabel('Episode #')\n",
    "plt.show()"
   ]
  },
  {
   "cell_type": "markdown",
   "metadata": {},
   "source": [
    "### 8. Test Trained Agent in the Environment\n",
    "\n",
    "Once this cell is executed, we can watch the agent's performance.  A window should pop up that allows us to observe the agent, as it moves through the environment. "
   ]
  },
  {
   "cell_type": "code",
   "execution_count": 26,
   "metadata": {},
   "outputs": [
    {
     "name": "stdout",
     "output_type": "stream",
     "text": [
      "Total score (averaged over agents) this episode: 2.5450000381097198\n",
      "Total steps in this episode: 990\n",
      "Total score (averaged over agents) this episode: 2.045000030659139\n",
      "Total steps in this episode: 793\n",
      "Total score (averaged over agents) this episode: 1.3950000209733844\n",
      "Total steps in this episode: 548\n",
      "Total score (averaged over agents) this episode: 0.1450000023469329\n",
      "Total steps in this episode: 73\n",
      "Total score (averaged over agents) this episode: 2.4950000373646617\n",
      "Total steps in this episode: 966\n"
     ]
    }
   ],
   "source": [
    "#Load the previous trained weights\n",
    "#Need to turn on the GPU to even test it. Otherwise torch load results in error. \n",
    "actor_local1.load_state_dict(torch.load('checkpoint_actor_1.pth'))\n",
    "critic_local1.load_state_dict(torch.load('checkpoint_critic_1.pth'))\n",
    "actor_local2.load_state_dict(torch.load('checkpoint_actor_2.pth'))\n",
    "critic_local2.load_state_dict(torch.load('checkpoint_critic_2.pth'))\n",
    "\n",
    "for i in range(5):  \n",
    "    env_info = env.reset(train_mode=False)[brain_name]     # reset the environment    \n",
    "    states = env_info.vector_observations                  # get the current state (for each agent)\n",
    "    scores = np.zeros(num_agents)                          # initialize the score (for each agent)\n",
    "    steps = 0\n",
    "    while True:\n",
    "        state1 = np.concatenate([states[0], [1]]).reshape((1,states.shape[1]+1))\n",
    "        state2 = np.concatenate([states[1], [-1]]).reshape((1,states.shape[1]+1))\n",
    "        # select action with learned agent \n",
    "        action1 = agent(actor_local1, state1, add_noise=False) \n",
    "        action2 = agent(actor_local2, state2, add_noise=False) \n",
    "        #Step the agents actions into the environment, and get reward, next state, etc\n",
    "        env_info = env.step([action1, action2])[brain_name]\n",
    "        next_states = env_info.vector_observations\n",
    "        rewards = env_info.rewards\n",
    "        dones = env_info.local_done \n",
    "        scores += env_info.rewards                         # update the score (for each agent)\n",
    "        #Make next_state as current state and continue\n",
    "        states = next_states \n",
    "        steps += 1\n",
    "        if np.any(dones):                                  # exit loop if episode finished\n",
    "            break\n",
    "    print('Total score (averaged over agents) this episode: {}'.format(np.mean(scores)))\n",
    "    print('Total steps in this episode: {}'.format(steps))           "
   ]
  },
  {
   "cell_type": "markdown",
   "metadata": {},
   "source": [
    "When finished, you can close the environment."
   ]
  },
  {
   "cell_type": "code",
   "execution_count": 22,
   "metadata": {},
   "outputs": [],
   "source": [
    "env.close()"
   ]
  },
  {
   "cell_type": "code",
   "execution_count": null,
   "metadata": {},
   "outputs": [],
   "source": []
  }
 ],
 "metadata": {
  "kernelspec": {
   "display_name": "drlnd",
   "language": "python",
   "name": "drlnd"
  },
  "language_info": {
   "codemirror_mode": {
    "name": "ipython",
    "version": 3
   },
   "file_extension": ".py",
   "mimetype": "text/x-python",
   "name": "python",
   "nbconvert_exporter": "python",
   "pygments_lexer": "ipython3",
   "version": "3.6.10"
  }
 },
 "nbformat": 4,
 "nbformat_minor": 2
}
